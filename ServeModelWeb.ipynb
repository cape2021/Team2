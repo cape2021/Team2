{
  "nbformat": 4,
  "nbformat_minor": 0,
  "metadata": {
    "colab": {
      "name": "web2.ipynb",
      "provenance": [],
      "collapsed_sections": [],
      "authorship_tag": "ABX9TyPxaaH0d3RoTmCtXi3W7PWR",
      "include_colab_link": true
    },
    "kernelspec": {
      "name": "python3",
      "display_name": "Python 3"
    },
    "accelerator": "GPU"
  },
  "cells": [
    {
      "cell_type": "markdown",
      "metadata": {
        "id": "view-in-github",
        "colab_type": "text"
      },
      "source": [
        "<a href=\"https://colab.research.google.com/github/cape2021/Team2/blob/main/ServeModelWeb.ipynb\" target=\"_parent\"><img src=\"https://colab.research.google.com/assets/colab-badge.svg\" alt=\"Open In Colab\"/></a>"
      ]
    },
    {
      "cell_type": "code",
      "metadata": {
        "id": "5JQ02tAn6ck1"
      },
      "source": [
        "#Use of Tensor flow 1.X is recomended for the current notebook\n",
        "%tensorflow_version 1.x #If you are using Google Colab"
      ],
      "execution_count": null,
      "outputs": []
    },
    {
      "cell_type": "code",
      "metadata": {
        "id": "8nkgRR686fIV"
      },
      "source": [
        "%pip install Google-Colab-Transfer #If you are Using Google Colab "
      ],
      "execution_count": null,
      "outputs": []
    },
    {
      "cell_type": "code",
      "metadata": {
        "id": "U4Y8bE9P6j0Z"
      },
      "source": [
        "import colab_transfer\n",
        "\n",
        "gd = colab_transfer.get_path_to_home_of_google_drive()\n",
        "lm = colab_transfer.get_path_to_home_of_local_machine()\n",
        "\n",
        "colab_transfer.mount_google_drive()"
      ],
      "execution_count": null,
      "outputs": []
    },
    {
      "cell_type": "code",
      "metadata": {
        "id": "h55JEXvN6t8h"
      },
      "source": [
        "!git clone https://github.com/NVlabs/stylegan2-ada.git"
      ],
      "execution_count": null,
      "outputs": []
    },
    {
      "cell_type": "code",
      "metadata": {
        "id": "s8RUu1Mt7IwU"
      },
      "source": [
        "!pip install flask-ngrok"
      ],
      "execution_count": null,
      "outputs": []
    },
    {
      "cell_type": "code",
      "metadata": {
        "id": "oVLBJIAZD2os"
      },
      "source": [
        "import sys\n",
        "\n",
        "# load stylegan directory\n",
        "sys.path.insert(0, \"/content/stylegan2-ada\")\n",
        "\n",
        "import threading\n",
        "import os\n",
        "import pickle\n",
        "import numpy as np\n",
        "import PIL.Image\n",
        "from IPython.display import Image\n",
        "import matplotlib.pyplot as plt\n",
        "import dnnlib\n",
        "import dnnlib.tflib as tflib\n",
        "\n",
        "\n",
        "class getSeedImg:\n",
        "  def __init__(self, seed):\n",
        "    self.seed = seed\n",
        "    self.run()\n",
        "\n",
        "  def seed2vec(self,Gs, seed):\n",
        "    print(seed)\n",
        "    rnd = np.random.RandomState(seed)\n",
        "    return rnd.randn(1, *Gs.input_shape[1:])\n",
        "\n",
        "  def init_random_state(self,Gs, seed):\n",
        "    rnd = np.random.RandomState(seed) \n",
        "    noise_vars = [var for name, var in Gs.components.synthesis.vars.items() if name.startswith('noise')]\n",
        "    tflib.set_vars({var: rnd.randn(*var.shape.as_list()) for var in noise_vars}) # [height, width]\n",
        "\n",
        "  def display_image(self,image):\n",
        "    plt.axis('off')\n",
        "    plt.imshow(image)\n",
        "    plt.show()\n",
        "\n",
        "  def generate_image(self,Gs, z, truncation_psi):\n",
        "    # Render images for dlatents initialized from random seeds.\n",
        "      Gs_kwargs = {\n",
        "          'output_transform': dict(func=tflib.convert_images_to_uint8, nchw_to_nhwc=True),\n",
        "          'randomize_noise': False\n",
        "      }\n",
        "      if truncation_psi is not None:\n",
        "        Gs_kwargs['truncation_psi'] = truncation_psi\n",
        "\n",
        "      label = np.zeros([1] + Gs.input_shapes[1][1:])\n",
        "      images = Gs.run(z, label, **Gs_kwargs) # [minibatch, height, width, channel]\n",
        "      return images[0]\n",
        "\n",
        "  def run(self):\n",
        "    tflib.init_tf()\n",
        "    # Specify your pickle file to generate images\n",
        "    with open(\"/content/drive/MyDrive/FACES/Train/00001-facedataset-auto_no_ramp1-kimg10000-p0.713-resumecustom-freezed10/network-snapshot-000314.pkl\", \"rb\") as fp:\n",
        "      _G, _D, Gs = pickle.load(fp)\n",
        "    if os.path.isfile('./mood.png'):\n",
        "      os.remove('mood.png')\n",
        "    self.init_random_state(Gs, 10)\n",
        "    z = self.seed2vec(Gs, self.seed)\n",
        "    img = self.generate_image(Gs, z, 1.0)\n",
        "    PIL.Image.fromarray(img, 'RGB').save(f'./mood.png')\n",
        "\n",
        "\n",
        "\n",
        "#getSeedImg(1)\n",
        "#th = threading.Thread(target=getSeedImg, args=(0,))\n",
        "#th.start()\n",
        "#th.join()\n"
      ],
      "execution_count": null,
      "outputs": []
    },
    {
      "cell_type": "code",
      "metadata": {
        "id": "2Z07Zif919uO"
      },
      "source": [
        "from flask import Flask\n",
        "from flask import send_file\n",
        "from flask_ngrok import run_with_ngrok\n",
        "\n",
        "\n",
        "app = Flask(__name__)\n",
        "run_with_ngrok(app)  \n",
        "\n",
        "\n",
        "@app.route('/<path:text>', methods=['GET', 'POST'])\n",
        "def all_routes(text):\n",
        "    if text.isnumeric():\n",
        "      th = threading.Thread(target=getSeedImg, args=(int(text),))\n",
        "      th.start()\n",
        "      th.join()\n",
        "      filename = 'mood.png'\n",
        "      return send_file(filename, mimetype='image/png')\n",
        "    #else:\n",
        "      #return redirect(url_for('404_error'))\n",
        "\n",
        "\n",
        "if __name__ == '__main__':\n",
        "  app.run()"
      ],
      "execution_count": null,
      "outputs": []
    }
  ]
}